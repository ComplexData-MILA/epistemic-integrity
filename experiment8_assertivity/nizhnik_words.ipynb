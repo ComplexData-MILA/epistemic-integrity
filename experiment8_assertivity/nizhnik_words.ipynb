{
 "cells": [
  {
   "cell_type": "code",
   "execution_count": 2,
   "metadata": {},
   "outputs": [],
   "source": [
    "epistemic_verbs = {\n",
    "    \"High Modal Strength\": [\"bet\", \"expect\", \"hope\", \"know\", \"mean\", \"predict\", \"see\", \"trust\"],\n",
    "    \"Medium Modal Strength\": [\"assume\", \"believe\", \"feel\", \"find\", \"guess\", \"imagine\", \"presuppose\", \"presume\", \"reckon\", \"suppose\", \"think\", \"seem\", \"appear\", \"gather\", \"hypothesize\", \"take\", \"understand\"],\n",
    "    \"Low Modal Strength\": [\"doubt\", \"suspect\", \"wonder\"]\n",
    "}\n",
    "\n",
    "epistemic_adjectives = {\n",
    "    \"High Modal Strength\": [\"sure\", \"positive\"],\n",
    "    \"Medium Modal Strength\": [\"likely\", \"probable\"],\n",
    "    \"Low Modal Strength\": [\"doubtful\", \"possible\", \"uncertain\", \"unclear\", \"unconvinced\", \"unsure\", \"unlikely\", \"improbable\"]\n",
    "}\n",
    "\n",
    "epistemic_nouns = {\n",
    "    \"High Modal Strength\": [\"assertion\", \"belief\", \"conviction\", \"fact\", \"knowledge\"],\n",
    "    \"Medium Modal Strength\": [\"Assumption\", \"chance\", \"claim\", \"hypothesis\", \"idea\", \"impression\", \"feeling\", \"opinion\", \"possibility\", \"suggestion\"],\n",
    "    \"Low Modal Strength\": [\"Doubt\"]\n",
    "}\n",
    "\n",
    "epistemic_adverbs = {\n",
    "    \"High Modal Strength\": [\"actually\", \"assuredly\", \"certainly\", \"clearly\", \"definitely\", \"indubitably\", \"ineluctably\", \"inescapably\", \"manifestly\", \"obviously\", \"really\", \"surely\", \"truly\", \"unarguably\", \"unavoidably\", \"undeniably\", \"undoubtedly\", \"unquestionably\"],\n",
    "    \"Medium Modal Strength\": [\"apparently\", \"kind of\", \"predictably\", \"probably\", \"sort of\", \"supposedly\", \"allegedly\", \"reportedly\", \"evidently\"],\n",
    "    \"Low Modal Strength\": [\"perhaps\", \"possibly\", \"conceivably\"]\n",
    "}"
   ]
  },
  {
   "cell_type": "code",
   "execution_count": 3,
   "metadata": {},
   "outputs": [],
   "source": [
    "epistemic_words = epistemic_verbs[\"High Modal Strength\"] + epistemic_verbs[\"Medium Modal Strength\"] + epistemic_verbs[\"Low Modal Strength\"] + \\\n",
    "                  epistemic_adjectives[\"High Modal Strength\"] + epistemic_adjectives[\"Medium Modal Strength\"] + epistemic_adjectives[\"Low Modal Strength\"] + \\\n",
    "                  epistemic_nouns[\"High Modal Strength\"] + epistemic_nouns[\"Medium Modal Strength\"] + epistemic_nouns[\"Low Modal Strength\"] + \\\n",
    "                  epistemic_adverbs[\"High Modal Strength\"] + epistemic_adverbs[\"Medium Modal Strength\"] + epistemic_adverbs[\"Low Modal Strength\"]"
   ]
  },
  {
   "cell_type": "code",
   "execution_count": 4,
   "metadata": {},
   "outputs": [
    {
     "name": "stdout",
     "output_type": "stream",
     "text": [
      "Mean Squared Error: 1.012815563389228\n"
     ]
    },
    {
     "name": "stderr",
     "output_type": "stream",
     "text": [
      "C:\\Users\\12406\\AppData\\Local\\Packages\\PythonSoftwareFoundation.Python.3.10_qbz5n2kfra8p0\\LocalCache\\local-packages\\Python310\\site-packages\\sklearn\\feature_extraction\\text.py:1375: UserWarning: Upper case characters found in vocabulary while 'lowercase' is True. These entries will not be matched with any documents\n",
      "  warnings.warn(\n"
     ]
    }
   ],
   "source": [
    "import json\n",
    "import pandas as pd\n",
    "from sklearn.model_selection import train_test_split\n",
    "from sklearn.ensemble import RandomForestRegressor\n",
    "from sklearn.feature_extraction.text import TfidfVectorizer\n",
    "from sklearn.metrics import mean_squared_error\n",
    "from sklearn.preprocessing import StandardScaler\n",
    "\n",
    "data = []\n",
    "with open('sentence-level-certainty.jsonl', 'r') as file:\n",
    "    for line in file:\n",
    "        data.append(json.loads(line))\n",
    "\n",
    "df = pd.DataFrame(data)\n",
    "\n",
    "vectorizer = TfidfVectorizer(vocabulary=epistemic_words, lowercase=True, stop_words='english')\n",
    "X = vectorizer.fit_transform(df['finding']).toarray()\n",
    "\n",
    "y = df['sentence-level-certainty'].values.reshape(-1, 1)\n",
    "scaler = StandardScaler()\n",
    "y_scaled = scaler.fit_transform(y)\n",
    "\n",
    "X_train, X_test, y_train, y_test = train_test_split(X, y_scaled, test_size=0.2, random_state=42)\n",
    "\n",
    "model = RandomForestRegressor(n_estimators=100, random_state=42)\n",
    "model.fit(X_train, y_train.ravel())\n",
    "y_pred = model.predict(X_test)\n",
    "\n",
    "y_test_original = scaler.inverse_transform(y_test)\n",
    "y_pred_original = scaler.inverse_transform(y_pred.reshape(-1, 1))\n",
    "mse = mean_squared_error(y_test_original, y_pred_original)\n",
    "print(f'Mean Squared Error: {mse}')"
   ]
  }
 ],
 "metadata": {
  "kernelspec": {
   "display_name": "Python 3",
   "language": "python",
   "name": "python3"
  },
  "language_info": {
   "codemirror_mode": {
    "name": "ipython",
    "version": 3
   },
   "file_extension": ".py",
   "mimetype": "text/x-python",
   "name": "python",
   "nbconvert_exporter": "python",
   "pygments_lexer": "ipython3",
   "version": "3.10.11"
  }
 },
 "nbformat": 4,
 "nbformat_minor": 2
}
