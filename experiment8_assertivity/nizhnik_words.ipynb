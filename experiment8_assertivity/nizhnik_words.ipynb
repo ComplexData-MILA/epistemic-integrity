{
 "cells": [
  {
   "cell_type": "code",
   "execution_count": 1,
   "metadata": {},
   "outputs": [],
   "source": [
    "epistemic_verbs = {\n",
    "    \"High Modal Strength\": [\"bet\", \"expect\", \"hope\", \"know\", \"mean\", \"predict\", \"see\", \"trust\"],\n",
    "    \"Medium Modal Strength\": [\"assume\", \"believe\", \"feel\", \"find\", \"guess\", \"imagine\", \"presuppose\", \"presume\", \"reckon\", \"suppose\", \"think\", \"seem\", \"appear\", \"gather\", \"hypothesize\", \"take\", \"understand\"],\n",
    "    \"Low Modal Strength\": [\"doubt\", \"suspect\", \"wonder\"]\n",
    "}\n",
    "\n",
    "epistemic_adjectives = {\n",
    "    \"High Modal Strength\": [\"sure\", \"positive\"],\n",
    "    \"Medium Modal Strength\": [\"likely\", \"probable\"],\n",
    "    \"Low Modal Strength\": [\"doubtful\", \"possible\", \"uncertain\", \"unclear\", \"unconvinced\", \"unsure\", \"unlikely\", \"improbable\"]\n",
    "}\n",
    "\n",
    "epistemic_nouns = {\n",
    "    \"High Modal Strength\": [\"assertion\", \"belief\", \"conviction\", \"fact\", \"knowledge\"],\n",
    "    \"Medium Modal Strength\": [\"Assumption\", \"chance\", \"claim\", \"hypothesis\", \"idea\", \"impression\", \"feeling\", \"opinion\", \"possibility\", \"suggestion\"],\n",
    "    \"Low Modal Strength\": [\"Doubt\"]\n",
    "}\n",
    "\n",
    "epistemic_adverbs = {\n",
    "    \"High Modal Strength\": [\"actually\", \"assuredly\", \"certainly\", \"clearly\", \"definitely\", \"indubitably\", \"ineluctably\", \"inescapably\", \"manifestly\", \"obviously\", \"really\", \"surely\", \"truly\", \"unarguably\", \"unavoidably\", \"undeniably\", \"undoubtedly\", \"unquestionably\"],\n",
    "    \"Medium Modal Strength\": [\"apparently\", \"kind of\", \"predictably\", \"probably\", \"sort of\", \"supposedly\", \"allegedly\", \"reportedly\", \"evidently\"],\n",
    "    \"Low Modal Strength\": [\"perhaps\", \"possibly\", \"conceivably\"]\n",
    "}"
   ]
  },
  {
   "cell_type": "code",
   "execution_count": 3,
   "metadata": {},
   "outputs": [],
   "source": [
    "epistemic_words = epistemic_verbs[\"High Modal Strength\"] + epistemic_verbs[\"Medium Modal Strength\"] + epistemic_verbs[\"Low Modal Strength\"] + \\\n",
    "                  epistemic_adjectives[\"High Modal Strength\"] + epistemic_adjectives[\"Medium Modal Strength\"] + epistemic_adjectives[\"Low Modal Strength\"] + \\\n",
    "                  epistemic_nouns[\"High Modal Strength\"] + epistemic_nouns[\"Medium Modal Strength\"] + epistemic_nouns[\"Low Modal Strength\"] + \\\n",
    "                  epistemic_adverbs[\"High Modal Strength\"] + epistemic_adverbs[\"Medium Modal Strength\"] + epistemic_adverbs[\"Low Modal Strength\"]"
   ]
  },
  {
   "cell_type": "code",
   "execution_count": 6,
   "metadata": {},
   "outputs": [
    {
     "name": "stderr",
     "output_type": "stream",
     "text": [
      "/home/mila/s/shahrad.mohammadzadeh/projects/assertivity/.venv/lib/python3.10/site-packages/sklearn/feature_extraction/text.py:1364: UserWarning: Upper case characters found in vocabulary while 'lowercase' is True. These entries will not be matched with any documents\n",
      "  warnings.warn(\n"
     ]
    },
    {
     "name": "stdout",
     "output_type": "stream",
     "text": [
      "Validation Mean Squared Error: 1.012815563389228\n",
      "Test Mean Squared Error on new test data: 1.6976144313812256\n"
     ]
    }
   ],
   "source": [
    "import json\n",
    "import pandas as pd\n",
    "from sklearn.model_selection import train_test_split\n",
    "from sklearn.ensemble import RandomForestRegressor\n",
    "from sklearn.feature_extraction.text import TfidfVectorizer\n",
    "from sklearn.metrics import mean_squared_error\n",
    "from sklearn.preprocessing import StandardScaler\n",
    "import torch\n",
    "\n",
    "# Load the training data\n",
    "data = []\n",
    "with open('sentence-level-certainty.jsonl', 'r') as file:\n",
    "    for line in file:\n",
    "        data.append(json.loads(line))\n",
    "\n",
    "df = pd.DataFrame(data)\n",
    "\n",
    "# Vectorize the text data\n",
    "vectorizer = TfidfVectorizer(vocabulary=epistemic_words, lowercase=True, stop_words='english')\n",
    "X = vectorizer.fit_transform(df['finding']).toarray()\n",
    "\n",
    "# Scale the target variable\n",
    "y = df['sentence-level-certainty'].values.reshape(-1, 1)\n",
    "scaler = StandardScaler()\n",
    "y_scaled = scaler.fit_transform(y)\n",
    "\n",
    "# Split the data into training and validation sets\n",
    "X_train, X_val, y_train, y_val = train_test_split(X, y_scaled, test_size=0.2, random_state=42)\n",
    "\n",
    "# Train the model\n",
    "model = RandomForestRegressor(n_estimators=100, random_state=42)\n",
    "model.fit(X_train, y_train.ravel())\n",
    "\n",
    "# Validate the model\n",
    "y_val_pred = model.predict(X_val)\n",
    "y_val_original = scaler.inverse_transform(y_val)\n",
    "y_val_pred_original = scaler.inverse_transform(y_val_pred.reshape(-1, 1))\n",
    "val_mse = mean_squared_error(y_val_original, y_val_pred_original)\n",
    "print(f'Validation Mean Squared Error: {val_mse}')\n",
    "\n",
    "# Load the new test data\n",
    "test_df = pd.read_csv('../scibert-finetuning/data/test_data.csv')\n",
    "\n",
    "# Vectorize the new test data\n",
    "X_test_new = vectorizer.transform(test_df['text']).toarray()\n",
    "\n",
    "# Scale the new test target variable\n",
    "y_test_new = test_df['assertiveness'].values.reshape(-1, 1)\n",
    "y_test_new_scaled = scaler.transform(y_test_new)\n",
    "\n",
    "# Predict on the new test data\n",
    "y_test_new_pred = model.predict(X_test_new)\n",
    "y_test_new_pred_original = scaler.inverse_transform(y_test_new_pred.reshape(-1, 1))\n",
    "\n",
    "# Standardize the assertiveness scores and predictions\n",
    "assertiveness = torch.tensor(y_test_new.flatten(), dtype=torch.float32)\n",
    "mean_assert = torch.mean(assertiveness)\n",
    "std_assert = torch.std(assertiveness)\n",
    "standardized_assert = (assertiveness - mean_assert) / std_assert\n",
    "\n",
    "responses = torch.tensor(y_test_new_pred_original.flatten(), dtype=torch.float32)\n",
    "mean_pred = torch.mean(responses)\n",
    "std_pred = torch.std(responses)\n",
    "standardized_pred = (responses - mean_pred) / std_pred\n",
    "\n",
    "# Calculate MSE loss\n",
    "mse_loss = torch.nn.MSELoss()\n",
    "loss = mse_loss(standardized_pred, standardized_assert)\n",
    "print(f'Test Mean Squared Error on new test data: {loss.item()}')"
   ]
  },
  {
   "cell_type": "code",
   "execution_count": null,
   "metadata": {},
   "outputs": [],
   "source": []
  }
 ],
 "metadata": {
  "kernelspec": {
   "display_name": "Python 3",
   "language": "python",
   "name": "python3"
  },
  "language_info": {
   "codemirror_mode": {
    "name": "ipython",
    "version": 3
   },
   "file_extension": ".py",
   "mimetype": "text/x-python",
   "name": "python",
   "nbconvert_exporter": "python",
   "pygments_lexer": "ipython3",
   "version": "3.10.12"
  }
 },
 "nbformat": 4,
 "nbformat_minor": 2
}
