{
 "cells": [
  {
   "cell_type": "code",
   "execution_count": 10,
   "metadata": {},
   "outputs": [
    {
     "name": "stdout",
     "output_type": "stream",
     "text": [
      "The file has 1551 rows.\n"
     ]
    }
   ],
   "source": [
    "import json\n",
    "\n",
    "with open('sentence-level-certainty.jsonl', 'r') as file:\n",
    "    lines = file.readlines()\n",
    "    print(f'The file has {len(lines)} rows.')"
   ]
  },
  {
   "cell_type": "code",
   "execution_count": 11,
   "metadata": {},
   "outputs": [],
   "source": [
    "epistemic_verbs = {\n",
    "    \"High Modal Strength\": [\"bet\", \"expect\", \"hope\", \"know\", \"mean\", \"predict\", \"see\", \"trust\"],\n",
    "    \"Medium Modal Strength\": [\"assume\", \"believe\", \"feel\", \"find\", \"guess\", \"imagine\", \"presuppose\", \"presume\", \"reckon\", \"suppose\", \"think\", \"seem\", \"appear\", \"gather\", \"hypothesize\", \"take\", \"understand\"],\n",
    "    \"Low Modal Strength\": [\"doubt\", \"suspect\", \"wonder\"]\n",
    "}\n",
    "\n",
    "epistemic_adjectives = {\n",
    "    \"High Modal Strength\": [\"sure\", \"positive\"],\n",
    "    \"Medium Modal Strength\": [\"likely\", \"probable\"],\n",
    "    \"Low Modal Strength\": [\"doubtful\", \"possible\", \"uncertain\", \"unclear\", \"unconvinced\", \"unsure\", \"unlikely\", \"improbable\"]\n",
    "}\n",
    "\n",
    "epistemic_nouns = {\n",
    "    \"High Modal Strength\": [\"assertion\", \"belief\", \"conviction\", \"fact\", \"knowledge\"],\n",
    "    \"Medium Modal Strength\": [\"Assumption\", \"chance\", \"claim\", \"hypothesis\", \"idea\", \"impression\", \"feeling\", \"opinion\", \"possibility\", \"suggestion\"],\n",
    "    \"Low Modal Strength\": [\"Doubt\"]\n",
    "}\n",
    "\n",
    "epistemic_adverbs = {\n",
    "    \"High Modal Strength\": [\"actually\", \"assuredly\", \"certainly\", \"clearly\", \"definitely\", \"indubitably\", \"ineluctably\", \"inescapably\", \"manifestly\", \"obviously\", \"really\", \"surely\", \"truly\", \"unarguably\", \"unavoidably\", \"undeniably\", \"undoubtedly\", \"unquestionably\"],\n",
    "    \"Medium Modal Strength\": [\"apparently\", \"kind of\", \"predictably\", \"probably\", \"sort of\", \"supposedly\", \"allegedly\", \"reportedly\", \"evidently\"],\n",
    "    \"Low Modal Strength\": [\"perhaps\", \"possibly\", \"conceivably\"]\n",
    "}"
   ]
  },
  {
   "cell_type": "markdown",
   "metadata": {},
   "source": [
    "### Paper 1, Model 1: Naive Nizhnik"
   ]
  },
  {
   "cell_type": "code",
   "execution_count": 12,
   "metadata": {},
   "outputs": [
    {
     "name": "stdout",
     "output_type": "stream",
     "text": [
      "Mean Squared Error: 2.809557641200648e+24\n"
     ]
    },
    {
     "name": "stderr",
     "output_type": "stream",
     "text": [
      "C:\\Users\\12406\\AppData\\Local\\Packages\\PythonSoftwareFoundation.Python.3.10_qbz5n2kfra8p0\\LocalCache\\local-packages\\Python310\\site-packages\\sklearn\\feature_extraction\\text.py:1375: UserWarning: Upper case characters found in vocabulary while 'lowercase' is True. These entries will not be matched with any documents\n",
      "  warnings.warn(\n"
     ]
    }
   ],
   "source": [
    "import json\n",
    "import pandas as pd\n",
    "from sklearn.model_selection import train_test_split\n",
    "from sklearn.linear_model import LinearRegression\n",
    "from sklearn.feature_extraction.text import CountVectorizer\n",
    "from sklearn.metrics import mean_squared_error\n",
    "\n",
    "data = []\n",
    "with open('sentence-level-certainty.jsonl', 'r') as file:\n",
    "    for line in file:\n",
    "        data.append(json.loads(line))\n",
    "\n",
    "df = pd.DataFrame(data)\n",
    "epistemic_words = epistemic_verbs[\"High Modal Strength\"] + epistemic_verbs[\"Medium Modal Strength\"] + epistemic_verbs[\"Low Modal Strength\"] + \\\n",
    "                  epistemic_adjectives[\"High Modal Strength\"] + epistemic_adjectives[\"Medium Modal Strength\"] + epistemic_adjectives[\"Low Modal Strength\"] + \\\n",
    "                  epistemic_nouns[\"High Modal Strength\"] + epistemic_nouns[\"Medium Modal Strength\"] + epistemic_nouns[\"Low Modal Strength\"] + \\\n",
    "                  epistemic_adverbs[\"High Modal Strength\"] + epistemic_adverbs[\"Medium Modal Strength\"] + epistemic_adverbs[\"Low Modal Strength\"]\n",
    "\n",
    "vectorizer = CountVectorizer(vocabulary=epistemic_words)\n",
    "X = vectorizer.fit_transform(df['finding']).toarray()\n",
    "y = df['sentence-level-certainty'].values\n",
    "X_train, X_test, y_train, y_test = train_test_split(X, y, test_size=0.2, random_state=42)\n",
    "model = LinearRegression()\n",
    "model.fit(X_train, y_train)\n",
    "y_pred = model.predict(X_test)\n",
    "mse = mean_squared_error(y_test, y_pred)\n",
    "print(f'Mean Squared Error: {mse}')"
   ]
  },
  {
   "cell_type": "markdown",
   "metadata": {},
   "source": [
    "### Paper 1, Model 2: Random Forest Nizhnik"
   ]
  },
  {
   "cell_type": "code",
   "execution_count": 13,
   "metadata": {},
   "outputs": [
    {
     "name": "stderr",
     "output_type": "stream",
     "text": [
      "C:\\Users\\12406\\AppData\\Local\\Packages\\PythonSoftwareFoundation.Python.3.10_qbz5n2kfra8p0\\LocalCache\\local-packages\\Python310\\site-packages\\sklearn\\feature_extraction\\text.py:1375: UserWarning: Upper case characters found in vocabulary while 'lowercase' is True. These entries will not be matched with any documents\n",
      "  warnings.warn(\n"
     ]
    },
    {
     "name": "stdout",
     "output_type": "stream",
     "text": [
      "Mean Squared Error: 1.012815563389228\n"
     ]
    }
   ],
   "source": [
    "import json\n",
    "import pandas as pd\n",
    "from sklearn.model_selection import train_test_split\n",
    "from sklearn.ensemble import RandomForestRegressor\n",
    "from sklearn.feature_extraction.text import TfidfVectorizer\n",
    "from sklearn.metrics import mean_squared_error\n",
    "from sklearn.preprocessing import StandardScaler\n",
    "\n",
    "data = []\n",
    "with open('sentence-level-certainty.jsonl', 'r') as file:\n",
    "    for line in file:\n",
    "        data.append(json.loads(line))\n",
    "\n",
    "df = pd.DataFrame(data)\n",
    "\n",
    "# Using TF-IDF Vectorizer instead of CountVectorizer\n",
    "vectorizer = TfidfVectorizer(vocabulary=epistemic_words, lowercase=True, stop_words='english')\n",
    "X = vectorizer.fit_transform(df['finding']).toarray()\n",
    "\n",
    "# Normalizing the target variable\n",
    "y = df['sentence-level-certainty'].values.reshape(-1, 1)\n",
    "scaler = StandardScaler()\n",
    "y_scaled = scaler.fit_transform(y)\n",
    "\n",
    "X_train, X_test, y_train, y_test = train_test_split(X, y_scaled, test_size=0.2, random_state=42)\n",
    "\n",
    "# Using a more complex model: RandomForestRegressor\n",
    "model = RandomForestRegressor(n_estimators=100, random_state=42)\n",
    "model.fit(X_train, y_train.ravel())  # .ravel() to convert y_train to a 1D array\n",
    "y_pred = model.predict(X_test)\n",
    "\n",
    "# Calculate MSE on the original scale of y\n",
    "y_test_original = scaler.inverse_transform(y_test)\n",
    "y_pred_original = scaler.inverse_transform(y_pred.reshape(-1, 1))\n",
    "mse = mean_squared_error(y_test_original, y_pred_original)\n",
    "print(f'Mean Squared Error: {mse}')"
   ]
  },
  {
   "cell_type": "markdown",
   "metadata": {},
   "source": [
    "### Paper 1, Model 3: Hyperparameter-Tuned Random Forest Nizhnik"
   ]
  },
  {
   "cell_type": "code",
   "execution_count": 14,
   "metadata": {},
   "outputs": [],
   "source": [
    "# from sklearn.model_selection import GridSearchCV\n",
    "# from sklearn.ensemble import RandomForestRegressor\n",
    "# from sklearn.feature_extraction.text import TfidfVectorizer\n",
    "# from sklearn.metrics import make_scorer, mean_squared_error\n",
    "# from sklearn.pipeline import Pipeline\n",
    "# from sklearn.preprocessing import StandardScaler\n",
    "\n",
    "# # Define a pipeline combining a text feature extractor with a simple classifier\n",
    "# pipeline = Pipeline([\n",
    "#     ('tfidf', TfidfVectorizer(lowercase=True, stop_words='english')),\n",
    "#     ('scaler', StandardScaler(with_mean=False)),  # Use with_mean=False for sparse data\n",
    "#     ('clf', RandomForestRegressor(random_state=42))\n",
    "# ])\n",
    "\n",
    "# # Define the parameter grid to search\n",
    "# param_grid = {\n",
    "#     'clf__n_estimators': [100, 200],\n",
    "#     'clf__max_depth': [None, 10, 20],\n",
    "#     # Add more parameters here\n",
    "# }\n",
    "\n",
    "# # Define your search\n",
    "# search = GridSearchCV(pipeline, param_grid, n_jobs=-1, scoring=make_scorer(mean_squared_error, greater_is_better=False))\n",
    "\n",
    "# X = df['finding']\n",
    "# y = df['sentence-level-certainty'].values\n",
    "\n",
    "# search.fit(X, y)\n",
    "\n",
    "# print(f\"Best parameters: {search.best_params_}\")\n",
    "# print(f\"Best MSE: {-search.best_score_}\")"
   ]
  },
  {
   "cell_type": "markdown",
   "metadata": {},
   "source": [
    "### Paper 1, Model 4: Bucketed Nizhnik"
   ]
  },
  {
   "cell_type": "code",
   "execution_count": 15,
   "metadata": {},
   "outputs": [
    {
     "name": "stdout",
     "output_type": "stream",
     "text": [
      "Mean Squared Error: 0.989091937273428\n"
     ]
    },
    {
     "name": "stderr",
     "output_type": "stream",
     "text": [
      "C:\\Users\\12406\\AppData\\Local\\Packages\\PythonSoftwareFoundation.Python.3.10_qbz5n2kfra8p0\\LocalCache\\local-packages\\Python310\\site-packages\\sklearn\\feature_extraction\\text.py:525: UserWarning: The parameter 'token_pattern' will not be used since 'tokenizer' is not None'\n",
      "  warnings.warn(\n",
      "C:\\Users\\12406\\AppData\\Local\\Packages\\PythonSoftwareFoundation.Python.3.10_qbz5n2kfra8p0\\LocalCache\\local-packages\\Python310\\site-packages\\sklearn\\feature_extraction\\text.py:408: UserWarning: Your stop_words may be inconsistent with your preprocessing. Tokenizing the stop words generated tokens ['adverb_Low Modal Strength', 'verb_High Modal Strength', 'verb_Medium Modal Strength'] not in stop_words.\n",
      "  warnings.warn(\n"
     ]
    }
   ],
   "source": [
    "\n",
    "import json\n",
    "import pandas as pd\n",
    "from sklearn.model_selection import train_test_split\n",
    "from sklearn.ensemble import RandomForestRegressor\n",
    "from sklearn.feature_extraction.text import TfidfVectorizer\n",
    "from sklearn.metrics import mean_squared_error\n",
    "from sklearn.preprocessing import StandardScaler\n",
    "\n",
    "# Load data\n",
    "data = []\n",
    "with open('sentence-level-certainty.jsonl', 'r') as file:\n",
    "    for line in file:\n",
    "        data.append(json.loads(line))\n",
    "\n",
    "df = pd.DataFrame(data)\n",
    "\n",
    "# Prepare a custom tokenizer that classifies words based on their epistemic strength and part of speech\n",
    "def epistemic_tokenizer(sentence):\n",
    "    tokens = []\n",
    "    for word in sentence.split():\n",
    "        word_lower = word.lower()\n",
    "        for strength, words_list in epistemic_verbs.items():\n",
    "            if word_lower in words_list:\n",
    "                tokens.append(f\"verb_{strength}\")\n",
    "        for strength, words_list in epistemic_adjectives.items():\n",
    "            if word_lower in words_list:\n",
    "                tokens.append(f\"adjective_{strength}\")\n",
    "        for strength, words_list in epistemic_nouns.items():\n",
    "            if word_lower in words_list:\n",
    "                tokens.append(f\"noun_{strength}\")\n",
    "        for strength, words_list in epistemic_adverbs.items():\n",
    "            if word_lower in words_list:\n",
    "                tokens.append(f\"adverb_{strength}\")\n",
    "    return tokens\n",
    "\n",
    "# Using TF-IDF Vectorizer with a custom tokenizer\n",
    "vectorizer = TfidfVectorizer(tokenizer=epistemic_tokenizer, lowercase=True, stop_words='english')\n",
    "X = vectorizer.fit_transform(df['finding']).toarray()\n",
    "\n",
    "# Normalizing the target variable\n",
    "y = df['sentence-level-certainty'].values.reshape(-1, 1)\n",
    "scaler = StandardScaler()\n",
    "y_scaled = scaler.fit_transform(y)\n",
    "\n",
    "# Splitting the dataset\n",
    "X_train, X_test, y_train, y_test = train_test_split(X, y_scaled, test_size=0.2, random_state=42)\n",
    "\n",
    "# Model training\n",
    "model = RandomForestRegressor(n_estimators=100, random_state=42)\n",
    "model.fit(X_train, y_train.ravel())\n",
    "\n",
    "# Predictions and evaluation\n",
    "y_pred = model.predict(X_test)\n",
    "y_test_original = scaler.inverse_transform(y_test)\n",
    "y_pred_original = scaler.inverse_transform(y_pred.reshape(-1, 1))\n",
    "mse = mean_squared_error(y_test_original, y_pred_original)\n",
    "print(f'Mean Squared Error: {mse}')\n"
   ]
  },
  {
   "cell_type": "markdown",
   "metadata": {},
   "source": [
    "### Paper 2: Pei Model"
   ]
  },
  {
   "cell_type": "code",
   "execution_count": 16,
   "metadata": {},
   "outputs": [],
   "source": [
    "# from certainty_estimator.predict_certainty import CertaintyEstimator\n",
    "# from tqdm import tqdm\n",
    "# from sklearn.metrics import mean_absolute_error\n",
    "\n",
    "# findings = [item['finding'] for item in data]\n",
    "# sentence_estimator = CertaintyEstimator(task='sentence-level', use_auth_token=False)\n",
    "# certainty_predictions = sentence_estimator.predict(findings, tqdm=tqdm)\n",
    "# true_certainty_levels = df['sentence-level-certainty'].tolist()\n",
    "# mae = mean_absolute_error(true_certainty_levels, certainty_predictions)\n",
    "# print(f\"Mean Absolute Error: {mae}\")"
   ]
  },
  {
   "cell_type": "markdown",
   "metadata": {},
   "source": [
    "### Baseline: GPT-4 Prompting"
   ]
  },
  {
   "cell_type": "code",
   "execution_count": 23,
   "metadata": {},
   "outputs": [],
   "source": [
    "import json\n",
    "import openai\n",
    "from dotenv import load_dotenv\n",
    "import os\n",
    "from sklearn.metrics import mean_absolute_error\n",
    "import re\n",
    "from sklearn.preprocessing import QuantileTransformer\n",
    "import numpy as np\n",
    "from concurrent.futures import ThreadPoolExecutor, as_completed\n",
    "import time\n",
    "\n",
    "# Load API key from .env file\n",
    "load_dotenv('key.env')\n",
    "api_key = os.getenv('API_KEY')\n",
    "openai.api_key = api_key\n",
    "\n",
    "# Load the dataset\n",
    "data_path = 'sentence-level-certainty.jsonl'\n",
    "entries = []\n",
    "with open(data_path, 'r') as file:\n",
    "    entries = [json.loads(line) for line in file]\n",
    "\n",
    "def get_numeric_prediction(text):\n",
    "    \"\"\"Extracts the first found float value from the given text and clamps it to the range 0.0 to 5.0.\"\"\"\n",
    "    matches = re.findall(r\"[-+]?\\d*\\.\\d+|\\d+\", text)\n",
    "    if matches:\n",
    "        value = float(matches[0])\n",
    "        # Clamp the value to be within 0.0 to 5.0\n",
    "        return max(0.0, min(5.0, value))\n",
    "    else:\n",
    "        return None\n",
    "\n",
    "def get_gpt_prediction(model, prompt_template, include_examples, finding):\n",
    "    examples = \"\"\n",
    "    if include_examples:\n",
    "        examples = (\n",
    "            'Given the finding: \"Kids get more exercise when the sun is out later in the evening.\", predict a certainty score between 0.0 and 5.0: 5.0\\n'\n",
    "            'Given the finding: \"Screening appeared to reduce prostate cancer deaths by 15% at 9 years, and this improved to 22% at 11 years.\", predict a certainty score between 0.0 and 5.0: 4.0\\n'\n",
    "            'Given the finding: \"The results indicate that organizations may benefit from encouraging employees to consider creative activities in their efforts to recover from work.\", predict a certainty score between 0.0 and 5.0: 3.0\\n'\n",
    "        )\n",
    "    prompt = examples + prompt_template.format(finding=finding['finding'])\n",
    "    try:\n",
    "        response = openai.ChatCompletion.create(\n",
    "            model=model,\n",
    "            messages=[\n",
    "                {\"role\": \"system\", \"content\": \"You are a helpful assistant trained to predict certainty scores for medical findings on a scale from 0.0 to 5.0.\"},\n",
    "                {\"role\": \"user\", \"content\": prompt}\n",
    "            ]\n",
    "        )\n",
    "        predicted_text = response.choices[0].message['content'].strip()\n",
    "        predicted_score = get_numeric_prediction(predicted_text)\n",
    "    except Exception as e:\n",
    "        print(f\"Error in processing prediction: {e}\")\n",
    "        predicted_score = None\n",
    "    return predicted_score, finding['sentence-level-certainty']\n",
    "\n",
    "def evaluate_model(model, prompt_template, entries, include_examples=False):\n",
    "    results = []\n",
    "    task_count = 0\n",
    "    with ThreadPoolExecutor(max_workers=1551) as executor:\n",
    "        future_to_prediction = {executor.submit(get_gpt_prediction, model, prompt_template, include_examples, entry): entry for entry in entries}\n",
    "        for future in as_completed(future_to_prediction):\n",
    "            result = future.result()\n",
    "            task_count += 1\n",
    "            # print(f\"Completed tasks: {task_count}/{len(entries)}\")\n",
    "            if result[0] is not None:\n",
    "                results.append(result)\n",
    "    \n",
    "    predicted_scores = [result[0] for result in results if result[0] is not None]\n",
    "    true_scores = [result[1] for result in results]\n",
    "    print(len(predicted_scores), len(true_scores))\n",
    "    print(predicted_scores)\n",
    "    print(true_scores)\n",
    "    mae = mean_absolute_error(true_scores, predicted_scores)\n",
    "    print(mae)\n",
    "\n",
    "    from sklearn.isotonic import IsotonicRegression\n",
    "\n",
    "    # Apply isotonic regression to calibrate the predicted scores\n",
    "    isotonic_regressor = IsotonicRegression(out_of_bounds='clip')\n",
    "    isotonic_regressor.fit(predicted_scores, true_scores)\n",
    "    predicted_scores_calibrated = isotonic_regressor.predict(predicted_scores)\n",
    "    print(len(predicted_scores_calibrated), len(true_scores))\n",
    "    print(predicted_scores_calibrated)\n",
    "    print(true_scores)\n",
    "    mae_calibrated = mean_absolute_error(true_scores, predicted_scores_calibrated)\n",
    "    print(mae_calibrated)\n",
    "\n",
    "    # Calculate MAE after quantile transformation\n",
    "    # if len(predicted_scores_transformed) > 0:\n",
    "    #     mae = mean_absolute_error(true_scores, predicted_scores_transformed)\n",
    "    #     print(f\"Model: {model}, Mean Absolute Error after Quantile Transformation: {mae}\", flush=True)\n",
    "    # else:\n",
    "    #     print(\"No successful predictions were made.\", flush=True)\n",
    "\n",
    "# Function calls\n",
    "evaluate_model(\"gpt-3.5-turbo\", \"Given the finding: \\\"{finding}\\\", predict a certainty score between 0.0 and 5.0:\", entries, include_examples=False)\n",
    "# evaluate_model(\"gpt-3.5-turbo\", \"Given the finding: \\\"{finding}\\\", predict a certainty score between 0.0 and 5.0. Here are a few examples:\\n\", entries, include_examples=True)\n",
    "# evaluate_model(\"gpt-4-0125-preview\", \"Given the finding: \\\"{finding}\\\", predict a certainty score between 0.0 and 5.0:\", entries, include_examples=False)\n"
   ]
  },
  {
   "cell_type": "code",
   "execution_count": 2,
   "metadata": {},
   "outputs": [
    {
     "data": {
      "image/png": "[encoded data removed]",
      "text/plain": [
       "<Figure size 1000x600 with 1 Axes>"
      ]
     },
     "metadata": {},
     "output_type": "display_data"
    }
   ],
   "source": [
    "import matplotlib.pyplot as plt\n",
    "\n",
    "# Hardcoded MAE values from different methods\n",
    "methods = ['Random Forest Nizhnik', 'Bucketed Nizhnik', 'Pei Model', 'gpt-3.5-turbo, zero-shot', 'gpt-3.5-turbo, few-shot', 'gpt-4-0125-preview, zero-shot']\n",
    "mae_values = [1.012815563389228, 0.989091937273428, 0.4108365239467822, 1.0276396861078285, 0.9708091300295736, 1.2543967723984417]\n",
    "plt.figure(figsize=(10, 6))\n",
    "bars = plt.bar(methods, mae_values, color=['blue', 'orange', 'green', 'red'])\n",
    "plt.xlabel('Methods')\n",
    "plt.ylabel('Mean Absolute Error (MAE)')\n",
    "plt.title('Comparison of Inverse Mean Absolute Error Across Different Methods')\n",
    "plt.xticks(rotation=45, ha=\"right\")\n",
    "plt.tight_layout()\n",
    "plt.show()\n"
   ]
  }
 ],
 "metadata": {
  "kernelspec": {
   "display_name": "Python 3",
   "language": "python",
   "name": "python3"
  },
  "language_info": {
   "codemirror_mode": {
    "name": "ipython",
    "version": 3
   },
   "file_extension": ".py",
   "mimetype": "text/x-python",
   "name": "python",
   "nbconvert_exporter": "python",
   "pygments_lexer": "ipython3",
   "version": "3.10.11"
  }
 },
 "nbformat": 4,
 "nbformat_minor": 2
}
