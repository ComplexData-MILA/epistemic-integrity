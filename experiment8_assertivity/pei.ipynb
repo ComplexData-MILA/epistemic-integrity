{
 "cells": [
  {
   "cell_type": "code",
   "execution_count": null,
   "metadata": {},
   "outputs": [],
   "source": [
    "import json\n",
    "import pandas as pd"
   ]
  },
  {
   "cell_type": "code",
   "execution_count": null,
   "metadata": {},
   "outputs": [],
   "source": [
    "data = []\n",
    "with open('sentence-level-certainty.jsonl', 'r') as file:\n",
    "    for line in file:\n",
    "        data.append(json.loads(line))\n",
    "\n",
    "df = pd.DataFrame(data)"
   ]
  },
  {
   "cell_type": "code",
   "execution_count": null,
   "metadata": {},
   "outputs": [],
   "source": [
    "from certainty_estimator.predict_certainty import CertaintyEstimator\n",
    "from tqdm import tqdm\n",
    "from sklearn.metrics import mean_absolute_error\n",
    "\n",
    "findings = [item['finding'] for item in data]\n",
    "sentence_estimator = CertaintyEstimator(task='sentence-level', use_auth_token=False)\n",
    "certainty_predictions = sentence_estimator.predict(findings, tqdm=tqdm)\n",
    "true_certainty_levels = df['sentence-level-certainty'].tolist()\n",
    "mae = mean_absolute_error(true_certainty_levels, certainty_predictions)\n",
    "print(f\"Mean Absolute Error: {mae}\")"
   ]
  }
 ],
 "metadata": {
  "language_info": {
   "name": "python"
  }
 },
 "nbformat": 4,
 "nbformat_minor": 2
}
