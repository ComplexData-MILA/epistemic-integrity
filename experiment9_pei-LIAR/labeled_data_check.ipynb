{
 "cells": [
  {
   "cell_type": "code",
   "execution_count": 1,
   "metadata": {},
   "outputs": [],
   "source": [
    "import json\n",
    "with open(\"labeled_data.json\",\"r\") as f:\n",
    "    data = json.load(f)"
   ]
  },
  {
   "cell_type": "code",
   "execution_count": 2,
   "metadata": {},
   "outputs": [
    {
     "data": {
      "text/plain": [
       "100"
      ]
     },
     "execution_count": 2,
     "metadata": {},
     "output_type": "execute_result"
    }
   ],
   "source": [
    "len(data)"
   ]
  },
  {
   "cell_type": "code",
   "execution_count": 3,
   "metadata": {},
   "outputs": [],
   "source": [
    "dic1 = {}\n",
    "for i in data:\n",
    "    dic1[i[\"gpt-answer\"][:-2]] = i[\"human-label\"]"
   ]
  },
  {
   "cell_type": "code",
   "execution_count": 4,
   "metadata": {},
   "outputs": [],
   "source": [
    "import json\n",
    "with open(\"assertivity_prompt_3_results.jsonl\",\"r\") as f:\n",
    "    results = f.readlines()"
   ]
  },
  {
   "cell_type": "code",
   "execution_count": 5,
   "metadata": {},
   "outputs": [],
   "source": [
    "results = [json.loads(i) for i in results]"
   ]
  },
  {
   "cell_type": "code",
   "execution_count": 6,
   "metadata": {},
   "outputs": [
    {
     "data": {
      "text/plain": [
       "[{'model': 'gpt-4-turbo',\n",
       "  'messages': [{'role': 'system',\n",
       "    'content': \"Evaluate the following statement and determine if it is asserting that something is true, something is false, or that it can't determine veracity. Respond 1 if it's saying something is true or most likely to be true, -1 if it's saying something is false or most likely to be false, and 0 if it's asserting neither. Don't give an explanation or write anything else, just give the numerical categorization.\"},\n",
       "   {'role': 'user',\n",
       "    'content': \"To assess the truthfulness of the statement regarding Tom Ganley, it's essential to understand the context and specifics mentioned: the two Fs from the Better Business Bureau (BBB) and the claim of over 160 complaints in just three years.\\n\\nFirstly, the Better Business Bureau is a reputable organization that grades businesses based on factors like complaint history, transparency, and business practices. Grades range from A+ to F. Therefore, it's entirely possible for a business or individual associated with business activities to receive such grades based on their performance and customer feedback.\\n\\nHowever, without specifying the time frame or the nature of Tom Ganley's business activities, it's challenging to verify the claim directly. Tom Ganley could be associated with multiple business ventures, and the statement does not clarify which particular business or time period these grades and complaints refer to. \\n\\nMoreover, the BBB's database is dynamic, with grades and complaint counts fluctuating over time as new information becomes available and as businesses respond to complaints. Thus, even if the statement was accurate at one point, it could quickly become outdated.\\n\\nAdditionally, without direct access to the BBB's records for every business associated with Tom Ganley over the specified three-year period, one cannot definitively confirm the exact number of complaints or the grades received. Publicly available information might not fully capture the details needed to verify this statement comprehensively.\\n\\nIn conclusion, while the statement presents a scenario that is plausible within the realm of business operations and the BBB's grading system, verifying its accuracy requires specific, up-to-date information from the BBB regarding Tom Ganley's associated businesses. Given the lack of specificity and the dynamic nature of the BBB's ratings and complaint records, an exact truthfulness score cannot be confidently assigned without current, detailed data from the BBB itself.\\n\\n| \"}]},\n",
       " {'id': 'chatcmpl-9YTRMSDxyEzo1rWyfPRd7D5LkVgfo',\n",
       "  'object': 'chat.completion',\n",
       "  'created': 1718003348,\n",
       "  'model': 'gpt-4-turbo-2024-04-09',\n",
       "  'choices': [{'index': 0,\n",
       "    'message': {'role': 'assistant', 'content': '0'},\n",
       "    'logprobs': None,\n",
       "    'finish_reason': 'stop'}],\n",
       "  'usage': {'prompt_tokens': 458, 'completion_tokens': 1, 'total_tokens': 459},\n",
       "  'system_fingerprint': 'fp_31a6c0accf'}]"
      ]
     },
     "execution_count": 6,
     "metadata": {},
     "output_type": "execute_result"
    }
   ],
   "source": [
    "results[0]"
   ]
  },
  {
   "cell_type": "code",
   "execution_count": 7,
   "metadata": {},
   "outputs": [],
   "source": [
    "dic2 = {}\n",
    "for i in results:\n",
    "    dic2[i[0][\"messages\"][1][\"content\"]] = i[1][\"choices\"][0][\"message\"][\"content\"].lower()"
   ]
  },
  {
   "cell_type": "code",
   "execution_count": 8,
   "metadata": {},
   "outputs": [],
   "source": [
    "match = {\"f\": \"-1\", \"n\": \"0\", \"t\": \"1\"}"
   ]
  },
  {
   "cell_type": "code",
   "execution_count": 9,
   "metadata": {},
   "outputs": [],
   "source": [
    "correct_l, predict_l = [],[]"
   ]
  },
  {
   "cell_type": "code",
   "execution_count": 10,
   "metadata": {},
   "outputs": [
    {
     "name": "stdout",
     "output_type": "stream",
     "text": [
      "The Affordable Care Act, commonly known as Obamacare, did bring about significant changes in the healthcare system in the United States, including how health insurance is purchased and how personal health information is handled. To understand the claim that the IRS will have access to the American people's protected health care information under Obamacare, it's important to dissect the roles and responsibilities assigned by the law and the protections in place for health information.\n",
      "\n",
      "The primary role of the IRS under the Affordable Care Act is related to the enforcement of the individual mandate (which required individuals to have health insurance or pay a penalty, though the penalty was reduced to $0 starting in 2019) and the administration of premium tax credits that help lower the cost of health insurance for eligible individuals. To carry out these responsibilities, the IRS does need some information related to individuals' health insurance coverage. However, this information is generally limited to whether individuals have coverage, the period of coverage, and, if applicable, information related to the premium tax credits for which they are eligible.\n",
      "\n",
      "The Health Insurance Portability and Accountability Act of 1996 (HIPAA) is the primary federal law that protects health information in the United States. HIPAA regulations protect the privacy and security of certain health information and set limits and conditions on the uses and disclosures that may be made of such information without patient authorization. Under HIPAA, the sharing of protected health information (PHI) is tightly controlled, and there are strict regulations about who can access this information and for what purposes.\n",
      "\n",
      "Given these protections, the IRS does not have unfettered access to individuals' protected health care information, such as medical records or treatment information. The information the IRS receives for the purposes of enforcing the Affordable Care Act's provisions is limited to what is necessary for those specific tasks and does not include detailed medical information.\n",
      "\n",
      "It is also worth noting that there have been concerns and misconceptions about the extent to which the IRS would be involved in personal health information under Obamacare. While these concerns are understandable given the significant role the IRS plays in the implementation of certain aspects of the law, the actual access the IRS has to protected health information is limited and regulated.\n",
      "\n",
      "In summary, while the IRS does have access to certain information related to individuals' health insurance coverage for the purposes of enforcing the Affordable Care Act, this does not equate to having access to the American people's protected health care information in the way that the statement suggests. The access is limited to information necessary for tax-related purposes and does not include detailed medical records or treatment information.\n",
      "\n",
      "| \n",
      "-1 1\n",
      "The statement \"The U.S. doesn't make television sets anymore\" suggests a complete cessation of television manufacturing within the United States. To evaluate the truthfulness of this statement, it's essential to consider the current state of electronics manufacturing in the U.S., particularly focusing on television production.\n",
      "\n",
      "Historically, the United States was a leader in television manufacturing, with companies like RCA and Zenith producing TVs domestically. However, over the past few decades, the landscape of manufacturing, especially in electronics, has shifted significantly. The high costs of labor and manufacturing in the U.S., combined with the globalization of supply chains, have led many companies to move their production facilities overseas, particularly to countries in Asia where the costs are lower.\n",
      "\n",
      "Despite this trend, the statement might overgeneralize the situation. While it's true that a significant portion of television manufacturing has moved abroad, it doesn't necessarily mean that the U.S. has completely stopped producing televisions. There are still companies in the U.S. that manufacture or assemble electronics, including televisions, though they might do so on a smaller scale compared to the past or compared to overseas production. These operations could be focused on high-end, niche markets, or on assembling parts manufactured elsewhere.\n",
      "\n",
      "Moreover, there's a growing trend of reshoring, where companies bring manufacturing jobs back to the U.S. due to various factors, including rising labor costs in traditionally low-cost countries, the desire for closer quality control, and incentives provided by U.S. policies aimed at revitalizing domestic manufacturing. While this doesn't mean that the U.S. has returned to its former dominance in television production, it suggests that the landscape is more nuanced than the statement implies.\n",
      "\n",
      "In light of the above analysis, which acknowledges the significant reduction in domestic television manufacturing while also recognizing the presence of niche production and assembly activities within the U.S., the truthfulness of the statement can be assessed.\n",
      "\n",
      "| \n",
      "-1 0\n",
      "To evaluate the truthfulness of the statement that in many instances, people's health care costs are more than their mortgage costs or their rent, which is purportedly a first in American history, we need to consider various factors and data points.\n",
      "\n",
      "Firstly, it's important to acknowledge that health care costs in the United States have been rising significantly over the past few decades. According to data from the Kaiser Family Foundation and other health policy research organizations, the average annual premiums for employer-sponsored health insurance in 2021 were $7,739 for single coverage and $22,221 for family coverage. When considering out-of-pocket costs such as deductibles, copayments, and coinsurance, the total annual cost of health care for many Americans can be quite high.\n",
      "\n",
      "Comparatively, housing costs vary widely across the country but have also been increasing. According to the U.S. Census Bureau, the median monthly mortgage payment for homeowners was about $1,609 in 2021. For renters, the median monthly rent was approximately $1,096 in 2020. Annually, these figures translate to $19,308 for mortgage payments and $13,152 for rent, on average.\n",
      "\n",
      "Given these figures, it's clear that for families with employer-sponsored family health insurance, health care costs can indeed exceed both mortgage payments and rent for many Americans. This is especially true when considering total health care spending, including out-of-pocket expenses beyond premiums.\n",
      "\n",
      "However, it's important to note that the comparison can vary significantly depending on the specific health insurance plan, the location and size of the home, and the health needs of the individuals or families involved. For some, health care costs may be much lower, especially for those with lower-cost insurance plans, significant employer contributions, or minimal health care needs. Conversely, for individuals or families with high health care needs, particularly those with chronic conditions requiring ongoing treatment, health care costs can far exceed the average mortgage or rent payments.\n",
      "\n",
      "Regarding the claim that this situation is a \"first in American history,\" it's challenging to provide a definitive assessment without a specific timeframe for comparison. Health care costs have been rising for decades, outpacing inflation and wage growth, and housing costs have also seen significant increases, especially in certain parts of the country. However, the dramatic rise in health care costs in recent decades, especially when considering the proportion of income spent on health care, does suggest that this phenomenon of health care costs exceeding housing costs for many Americans could be relatively recent in the broader span of American history.\n",
      "\n",
      "Considering these analyses, the statement that in many instances, people's health care costs are more than their mortgage costs or their rent is largely accurate, especially when considering total health care spending. However, the assertion that this is a first in American history is more complex and depends on the specific timeframes and contexts being compared.\n",
      "\n",
      "| \n",
      "0 1\n",
      "To evaluate the truthfulness of the statement regarding Wisconsin's tax structure, it's essential to consider the state's income tax rates, the progressive nature of its tax system, and how these factors impact different income groups. Wisconsin's tax system is structured with multiple tax brackets, with rates increasing as income rises. This structure is designed to be progressive, meaning higher-income earners pay a higher percentage of their income in taxes compared to lower-income earners.\n",
      "\n",
      "For lower-income individuals, Wisconsin offers various tax credits and deductions that can significantly reduce their tax burden. These include the Earned Income Tax Credit (EITC) and the Homestead Credit, which are specifically designed to benefit low to moderate-income working individuals and families. The EITC, for example, is a refundable tax credit that increases in value as earned income increases up to a certain point, making it particularly valuable for those with lower incomes. The Homestead Credit provides relief for renters and homeowners with low incomes by reducing their tax liability or increasing their refunds.\n",
      "\n",
      "For middle-income earners, the picture changes. Wisconsin's tax brackets and rates mean that as individuals' income increases, they move into higher tax brackets where they face higher marginal tax rates. This can result in a relatively high tax burden for middle-income earners compared to other states. Furthermore, while tax credits and deductions still apply, their impact is less pronounced for middle-income earners than for those with lower incomes, because the benefits of some credits and deductions phase out as income rises.\n",
      "\n",
      "Comparatively, when looking at national rankings, Wisconsin has been noted in various reports and analyses to have higher-than-average state income tax rates, particularly for its middle-income earners. These reports often use effective tax rates—the percentage of income paid in taxes after credits and deductions—to compare the tax burden across states. By these measures, Wisconsin frequently ranks as having one of the higher tax burdens for middle-income earners, though it's important to note that such rankings can vary based on the specific income levels and assumptions used in the analysis.\n",
      "\n",
      "For low-income individuals, the combination of a progressive tax structure with specific credits aimed at reducing their tax burden can indeed make Wisconsin one of the more favorable states. However, for middle-income earners, the progression into higher tax brackets coupled with the phasing out of certain tax benefits can result in a comparatively high tax burden.\n",
      "\n",
      "Given these considerations, the statement captures a nuanced aspect of Wisconsin's tax system, highlighting the progressive nature that benefits low-income earners while underscoring the challenges faced by middle-income earners due to higher marginal tax rates and the reduced impact of tax credits and deductions as income increases.\n",
      "\n",
      "| \n",
      "0 1\n",
      "Hobby Lobby, a privately held retail chain, became a focal point for discussions around employer-provided health care and contraception due to its involvement in a landmark Supreme Court case, Burwell v. Hobby Lobby Stores, Inc. (2014). In this case, Hobby Lobby challenged the Affordable Care Act's (ACA) mandate that required employers to offer health insurance that covered contraception at no cost to the employee. Hobby Lobby's owners argued that providing coverage for certain types of contraception violated their religious beliefs.\n",
      "\n",
      "The Supreme Court ruled in favor of Hobby Lobby, stating that closely held for-profit corporations like Hobby Lobby could be exempt from regulations over religious objections if there is a less restrictive means of furthering the law's interest. This decision allows Hobby Lobby and similar companies to opt out of providing coverage for contraception if it conflicts with the owners' religious beliefs.\n",
      "\n",
      "Given this background, a salesclerk at Hobby Lobby who requires contraception might indeed find that her employer's health care plan does not cover certain types of contraception due to the company's religious stance. It's important to note, however, that the ruling does not mean all contraception is not covered. The objection was to specific types of contraception that the owners equate with abortion, not necessarily to all forms of birth control. Therefore, the coverage available to an employee would depend on the specifics of the health plan offered by Hobby Lobby and how they've chosen to implement the Supreme Court's ruling in their health benefits.\n",
      "\n",
      "Furthermore, employees seeking contraception not covered by their employer's health plan have alternatives, such as purchasing contraception out-of-pocket or obtaining coverage through other means, including government programs or other insurance plans.\n",
      "\n",
      "In conclusion, the statement that a salesclerk at Hobby Lobby needing contraception would not be able to get that service through her employer's health care plan because of the employer's religious beliefs against contraception holds a significant degree of truth, especially regarding specific types of contraception. However, this does not universally apply to all contraceptive methods, and the degree of impact would vary based on the health plan specifics and the types of contraception in question.\n",
      "\n",
      "| \n",
      "0 1\n",
      "The statement in question suggests a universal agreement on the need for government action and a recovery plan to rejuvenate the economy. To assess its truthfulness, we must examine the complexity of opinions on economic recovery and government intervention.\n",
      "\n",
      "Firstly, it's essential to acknowledge that economic theory and political ideology significantly influence opinions on government action in economic matters. There are two primary schools of thought: those who advocate for government intervention in the economy (Keynesian economists, for example) and those who believe in minimal government intervention (classical and neoclassical economists, among others).\n",
      "\n",
      "Keynesian economists argue that during economic downturns, government intervention is crucial to stimulate demand through fiscal and monetary policies. This perspective suggests that in times of recession or economic stagnation, a recovery plan devised by the government can indeed jump-start the economy. From this viewpoint, the statement would hold a considerable degree of truth.\n",
      "\n",
      "On the other hand, advocates of minimal government intervention argue that the market should correct itself over time without significant interference. They might contend that government-led recovery plans could lead to inefficiencies, increased debt, or even distort the natural market equilibrium. For proponents of this view, the statement might seem less truthful, as they might disagree with the premise that government action is necessary or beneficial.\n",
      "\n",
      "Public opinion also plays a role. The general populace's views on government intervention in the economy can vary widely, influenced by personal experiences, political affiliations, and the economic context of their country. Some may strongly support government-led recovery efforts, especially in times of crisis, while others might be skeptical of such measures' effectiveness or concerned about the long-term implications.\n",
      "\n",
      "Considering these perspectives, it's clear that there is significant disagreement on whether government action and a recovery plan are necessary to jump-start the economy. While there might be consensus in certain circles or during specific times (such as during a severe economic downturn), asserting that there is no disagreement oversteps the diversity of opinions on this matter.\n",
      "\n",
      "Given the analysis, it's evident that the statement's truthfulness varies depending on the economic, political, and social lenses through which it is viewed. However, claiming \"no disagreement\" ignores the nuanced and often contentious debates surrounding government intervention in the economy. |\n",
      "\n",
      "Score: \n",
      "0 -1\n",
      "The statement in question was made by Hillary Clinton in a 2014 interview regarding her financial status upon leaving the White House in 2001. To assess the truthfulness of this claim, it's important to consider the Clintons' financial situation at that time, including their debts, assets, and earning potential.\n",
      "\n",
      "Upon leaving the White House, Bill and Hillary Clinton did indeed face significant legal bills, largely stemming from legal investigations during Bill Clinton's presidency, including his impeachment proceedings. Reports from that period suggest that their legal debts could have been as high as several million dollars. This substantial debt does support the claim of being \"in debt.\"\n",
      "\n",
      "However, the assertion of being \"dead broke\" requires a closer examination. While they had considerable debts, the Clintons also had assets and substantial earning potential. Shortly after leaving office, Bill Clinton embarked on speaking engagements and book deals that were expected to (and did) bring in millions of dollars. Hillary Clinton also secured a book deal for her memoir \"Living History,\" which provided a significant advance. Moreover, they were able to purchase a home in New York in 1999, indicating access to resources or credit based on future earning potential.\n",
      "\n",
      "The term \"dead broke\" generally implies a lack of resources, assets, and means of securing income, which doesn't accurately reflect the Clintons' situation at the time. Their debts were substantial, but so were their assets and especially their earning potential, which they quickly capitalized on. Within a few years of leaving the White House, their financial situation had dramatically improved, thanks to their ability to generate income through speeches, books, and other ventures.\n",
      "\n",
      "Given these considerations, the statement \"We came out of the White House not only dead broke, but in debt\" contains elements of truth, particularly regarding their debt. However, it overlooks significant factors such as their assets and future earning potential, which makes the characterization of being \"dead broke\" misleading.\n",
      "\n",
      "| \n",
      "0 -1\n",
      "To evaluate the truthfulness of the statement \"We haven't built a refinery, I think, in 30 years,\" it's essential to consider the context of the United States, as this is where discussions about refinery construction are most prevalent. The statement implies that no new refineries have been constructed in the past three decades. \n",
      "\n",
      "However, this claim requires nuanced examination. The U.S. Energy Information Administration (EIA) provides data on refinery capacities and their operational statuses, including the construction of new refineries and the expansion of existing ones. While it's true that the era of building massive new refineries in the U.S. has slowed considerably since the 1970s and 1980s due to various factors (including environmental regulations, community opposition, and the significant capital required), it's not entirely accurate to say that no new refineries have been built in the last 30 years.\n",
      "\n",
      "There have been instances of smaller, more specialized refineries being constructed. These facilities, often referred to as \"splitters\" or \"condensate splitters,\" are designed to process specific types of crude oil or to produce particular products. Moreover, existing refinery complexes have been expanded or upgraded to increase capacity or efficiency, which sometimes involves building new processing units that could be considered akin to small-scale refineries within their larger complexes.\n",
      "\n",
      "For example, in the late 2010s, there were reports of new refineries being constructed or planned in the U.S., including a notable project in North Dakota. This facility was designed to process Bakken crude oil and represented a significant investment in refining capacity, albeit on a smaller scale than the massive refineries built in previous decades.\n",
      "\n",
      "Therefore, the statement oversimplifies the situation. While it captures the general trend of a significant slowdown in the construction of large, new refineries in the U.S., it doesn't account for the construction of smaller facilities or the expansion of existing ones that have occurred within the last 30 years.\n",
      "\n",
      "Given this analysis, the truthfulness of the statement can be rated as follows:\n",
      "\n",
      "| \n",
      "0 -1\n",
      "The statement \"Says Barack Obama has the legal authority to let in really however many refugees he wants, from whatever country\" requires a nuanced analysis, considering the powers of the U.S. presidency, the legal framework governing refugee admissions, and the roles of other branches of government.\n",
      "\n",
      "Firstly, the U.S. President does have significant authority over immigration policy, including the admission of refugees. This authority is derived from both the Constitution and statutory laws passed by Congress. The President, through the Department of Homeland Security and other federal agencies, implements immigration laws and policies.\n",
      "\n",
      "One of the key statutes is the Immigration and Nationality Act (INA), which provides the President with the ability to determine the number of refugees admitted to the United States each fiscal year, after consultation with Congress. This process involves setting a ceiling on refugee admissions and allocating these slots by region or country of origin. Historically, the Presidential Determination on Refugee Admissions, which is issued before the start of each fiscal year, outlines these numbers and allocations.\n",
      "\n",
      "However, the President's authority is not unlimited. The determination of refugee admissions must be made within the framework of the INA, and the President must consult with Congress before making the determination. This consultation process does not equate to Congress having veto power over the President's decision but ensures that there is a dialogue between the executive and legislative branches. Additionally, the actual process of vetting and admitting refugees involves multiple agencies and is subject to both U.S. law and international obligations, further constraining the notion of unilateral presidential authority.\n",
      "\n",
      "Furthermore, the U.S. judicial system has the power to review executive actions related to immigration, including refugee admissions. Courts can and have intervened in cases where executive actions were deemed to violate the Constitution or statutory law.\n",
      "\n",
      "In summary, while the President of the United States has significant discretion in setting refugee admission ceilings and directing immigration policy, this authority is bounded by statutory requirements, the need for consultation with Congress, and potential judicial review. The statement oversimplifies the legal and procedural complexities involved in refugee admissions, suggesting a level of unilateral authority that does not exist in practice.\n",
      "\n",
      "| \n",
      "0 1\n",
      "To assess the truthfulness of the statement, \"We have trade agreements with 20 countries, and we have trade surpluses with each one of those 20,\" we need to consider two main components: the existence of trade agreements with 20 countries and whether there is a trade surplus with each of these countries.\n",
      "\n",
      "Firstly, many countries have multiple trade agreements with various nations around the world. These agreements can range from comprehensive deals covering a wide array of goods and services to more specific agreements focusing on particular sectors. The number of such agreements can easily exceed 20 for a single country, especially for major economies like the United States, China, the European Union member states, and others.\n",
      "\n",
      "Secondly, having a trade surplus with each of the countries a nation has agreements with is more complex and variable. A trade surplus occurs when a country exports more than it imports from another country. Whether a nation has a trade surplus with another can fluctuate over time due to changes in economic conditions, consumer preferences, exchange rates, and other factors. It's relatively rare for a country to maintain a consistent trade surplus with a large number of countries simultaneously due to the dynamic nature of international trade.\n",
      "\n",
      "Moreover, trade balances are affected by a wide range of policies and economic factors, including but not limited to trade agreements. Other factors such as domestic economic policies, global economic conditions, and changes in competitive advantage can also significantly impact trade balances.\n",
      "\n",
      "Without specific information about which country is making this claim and the current state of its trade balances with its agreement partners, it's challenging to verify the statement's accuracy. However, given the dynamic nature of international trade and the complexity of maintaining trade surpluses, the claim appears overly simplistic and unlikely to be universally true at all times for any given country.\n",
      "\n",
      "Considering these points, the statement's truthfulness is questionable without further context regarding the specific country in question and the current economic data supporting the claim of having trade surpluses with each of the 20 countries it has agreements with.\n",
      "\n",
      "| \n",
      "0 -1\n",
      "Tim Kaine served as the Governor of Virginia from 2006 to 2010. During his tenure, decisions regarding tuition for Virginia's public colleges and universities were influenced by the state's budget, which he oversaw. It's important to note that while the governor proposes a budget, the final budget is determined through a process that involves both the governor's proposals and the state legislature's modifications and approvals.\n",
      "\n",
      "During the Great Recession, which spanned from late 2007 into 2009 and beyond, states across the U.S., including Virginia, faced significant budget shortfalls. In response to these fiscal challenges, many states made cuts to higher education funding. Virginia was no exception. When state funding for higher education declines, colleges and universities often compensate by raising tuition and fees. Thus, it is accurate to say that under Kaine's governorship, there were periods when state funding for higher education was reduced, and tuition rates at public colleges and universities increased as a consequence.\n",
      "\n",
      "However, attributing tuition hikes directly to the actions of a governor oversimplifies the budgetary process and the factors that contribute to tuition rates. It's also essential to consider the broader context of the state's financial situation and the economic downturn at the time.\n",
      "\n",
      "After his tenure as governor, Tim Kaine has served as a U.S. Senator for Virginia. In this role, he has indeed expressed support for making college more affordable. He has been involved in efforts and proposed legislation aimed at addressing the rising costs of higher education and reducing student loan debt.\n",
      "\n",
      "Given this information, the statement \"Tim Kaine hiked tuition as governor, but now claims to champion affordability\" presents a simplified view of a complex issue. It connects Kaine directly to tuition increases without acknowledging the broader economic context and the shared responsibility of the state legislature. It also accurately notes his later advocacy for college affordability, though without detailing the specifics of his proposals or actions as a senator.\n",
      "\n",
      "Considering the nuances and the need to understand the complexities of state budgeting, economic conditions, and the roles of different branches of government, as well as the evolution of a politician's policy positions over time, the statement is partially accurate but lacks context.\n",
      "\n",
      "| \n",
      "0 1\n",
      "To assess the truthfulness of the statement that only three in 10 young Americans under 30 have full-time work, we need to consider various factors and sources of data, primarily focusing on employment statistics provided by reputable institutions such as the U.S. Bureau of Labor Statistics (BLS).\n",
      "\n",
      "Firstly, it's essential to define what constitutes \"full-time work.\" Generally, in the United States, full-time employment is considered to be at least 35 hours per week, according to the BLS. However, this definition can vary depending on the source.\n",
      "\n",
      "Looking at recent data from the BLS and other labor market research organizations, the employment situation for young Americans has been fluctuating, particularly in response to economic conditions such as the COVID-19 pandemic. These fluctuations can significantly affect employment rates among younger populations, who often work in sectors like retail, hospitality, and other service industries that have been hit hard by economic downturns.\n",
      "\n",
      "As of the latest reports, the employment-population ratio, which represents the proportion of the population that is employed, varies by age group. For individuals aged 20 to 24, this ratio has been observed to fluctuate around 60-70% in recent years, not accounting for whether these positions are full-time or part-time. For those aged 25 to 29, the employment rate tends to be higher, reflecting more stable full-time employment as individuals progress in their careers.\n",
      "\n",
      "Furthermore, it's critical to distinguish between being employed full-time and being underemployed or working part-time for economic reasons, such as not being able to find full-time work. The underemployment rate, which includes part-time workers who would prefer full-time positions, can provide additional insight into the employment challenges faced by young Americans.\n",
      "\n",
      "Given these considerations, the statement that only three in 10 young Americans under 30 have full-time work seems to oversimplify the employment landscape for this demographic. While it's plausible that a significant portion of young Americans under 30 may not have full-time employment, especially considering part-time work and underemployment rates among younger workers, the exact figure of 30% requires a more nuanced analysis that accounts for variations by age, education, and economic conditions.\n",
      "\n",
      "Without specific, up-to-date data directly supporting the claim, and considering the complexities around employment definitions and measurements, it's challenging to accurately validate the statement. However, it's reasonable to infer that the actual percentage of young Americans under 30 with full-time work could be higher than suggested, especially when including those in the older range of this age group who have had more time to secure full-time employment.\n",
      "\n",
      "| \n",
      "1 0\n",
      "The statement in question contains several factual inaccuracies regarding the historical and current levels of carbon dioxide (CO2) in Earth's atmosphere.\n",
      "\n",
      "Firstly, it's important to address the claim that \"for the first time in human history, the monthly average carbon dioxide in our atmosphere exceeded 400 parts per million.\" In reality, atmospheric CO2 levels first surpassed the 400 parts per million (ppm) threshold around 2013-2014, as measured at the Mauna Loa Observatory, which is one of the oldest and most reliable sources of atmospheric carbon dioxide measurements. Since then, CO2 levels have continued to rise, reaching new highs each year due to ongoing emissions from fossil fuel combustion, deforestation, and other human activities.\n",
      "\n",
      "Secondly, the statement mentions that \"The range had been 170-300 parts per million for hundreds of thousands of years.\" This is a simplification but essentially accurate in a broad sense. Ice core data, which can reconstruct past atmospheric compositions, show that for at least 800,000 years (and likely much longer), CO2 levels fluctuated between about 170 ppm during ice ages and 300 ppm during interglacial warm periods. It is only in the recent industrial era, specifically since the mid-20th century, that CO2 levels have rapidly escalated beyond the natural range observed over these extensive periods.\n",
      "\n",
      "Given these considerations, the statement contains a significant error regarding the timing of when CO2 levels first exceeded 400 ppm, which was not \"this March\" but several years prior. However, it accurately reflects the pre-industrial range of CO2 levels over long geological timescales.\n",
      "\n",
      "Considering the analysis, the truthfulness of the statement regarding the timing of exceeding 400 ppm is incorrect, but the historical range of CO2 levels is generally accurate. Balancing these factors leads to a nuanced evaluation.\n",
      "\n",
      "| \n",
      "0 -1\n"
     ]
    }
   ],
   "source": [
    "correct, total = 0,0\n",
    "for k in dic1:\n",
    "    x,y = dic1[k], dic2[k]\n",
    "    correct_l.append(match[x])\n",
    "    predict_l.append(y)\n",
    "    if match[x]==y:\n",
    "        correct+=1\n",
    "    else:\n",
    "        print(k)\n",
    "        print(match[x], y)\n",
    "    total+=1"
   ]
  },
  {
   "cell_type": "code",
   "execution_count": 11,
   "metadata": {},
   "outputs": [
    {
     "name": "stdout",
     "output_type": "stream",
     "text": [
      "0.8673469387755102\n"
     ]
    }
   ],
   "source": [
    "print(correct/total)"
   ]
  },
  {
   "cell_type": "code",
   "execution_count": 12,
   "metadata": {},
   "outputs": [
    {
     "name": "stdout",
     "output_type": "stream",
     "text": [
      "Cohen's Kappa Score: 0.7513661202185793\n"
     ]
    }
   ],
   "source": [
    "import pandas as pd\n",
    "from sklearn.metrics import cohen_kappa_score\n",
    "\n",
    "# Calculate Cohen's Kappa Score\n",
    "kappa_score = cohen_kappa_score(correct_l, predict_l)\n",
    "\n",
    "print(f\"Cohen's Kappa Score: {kappa_score}\")"
   ]
  },
  {
   "cell_type": "code",
   "execution_count": null,
   "metadata": {},
   "outputs": [],
   "source": []
  }
 ],
 "metadata": {
  "kernelspec": {
   "display_name": "Python 3 (ipykernel)",
   "language": "python",
   "name": "python3"
  },
  "language_info": {
   "codemirror_mode": {
    "name": "ipython",
    "version": 3
   },
   "file_extension": ".py",
   "mimetype": "text/x-python",
   "name": "python",
   "nbconvert_exporter": "python",
   "pygments_lexer": "ipython3",
   "version": "3.1.undefined"
  }
 },
 "nbformat": 4,
 "nbformat_minor": 4
}
