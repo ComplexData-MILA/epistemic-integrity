{
 "cells": [
  {
   "cell_type": "code",
   "execution_count": 1,
   "metadata": {},
   "outputs": [],
   "source": [
    "import pandas as pd"
   ]
  },
  {
   "cell_type": "code",
   "execution_count": 2,
   "metadata": {},
   "outputs": [
    {
     "name": "stdout",
     "output_type": "stream",
     "text": [
      "<class 'pandas.core.frame.DataFrame'>\n",
      "RangeIndex: 793 entries, 0 to 792\n",
      "Data columns (total 3 columns):\n",
      " #   Column                     Non-Null Count  Dtype  \n",
      "---  ------                     --------------  -----  \n",
      " 0   Unnamed: 0                 793 non-null    int64  \n",
      " 1   text                       793 non-null    object \n",
      " 2   average_normalized_rating  793 non-null    float64\n",
      "dtypes: float64(1), int64(1), object(1)\n",
      "memory usage: 18.7+ KB\n"
     ]
    }
   ],
   "source": [
    "df = pd.read_csv('average_normalized_per_example.csv')\n",
    "df.head()\n",
    "df.info()"
   ]
  },
  {
   "cell_type": "code",
   "execution_count": 3,
   "metadata": {},
   "outputs": [],
   "source": [
    "# replace average_normalized_rating with assertiveness\n",
    "df = df.rename(columns={'average_normalized_rating': 'assertiveness'})"
   ]
  },
  {
   "cell_type": "code",
   "execution_count": 4,
   "metadata": {},
   "outputs": [
    {
     "name": "stdout",
     "output_type": "stream",
     "text": [
      "Empty DataFrame\n",
      "Columns: [Unnamed: 0, text, assertiveness]\n",
      "Index: []\n",
      "<class 'pandas.core.frame.DataFrame'>\n",
      "RangeIndex: 793 entries, 0 to 792\n",
      "Data columns (total 2 columns):\n",
      " #   Column         Non-Null Count  Dtype  \n",
      "---  ------         --------------  -----  \n",
      " 0   text           793 non-null    object \n",
      " 1   assertiveness  793 non-null    float64\n",
      "dtypes: float64(1), object(1)\n",
      "memory usage: 12.5+ KB\n"
     ]
    }
   ],
   "source": [
    "# remove columns with assertiveness Nans\n",
    "# print columns with nan assertiveness\n",
    "print(df[df['assertiveness'].isnull()])\n",
    "df = df.dropna(subset=['assertiveness'])\n",
    "# remove index\n",
    "df = df.reset_index(drop=True)\n",
    "df.drop(columns=['Unnamed: 0'], inplace=True)\n",
    "df.info()\n"
   ]
  },
  {
   "cell_type": "code",
   "execution_count": 5,
   "metadata": {},
   "outputs": [],
   "source": [
    "# remove dupliate texts\n",
    "df = df.drop_duplicates(subset=['text'])\n",
    "df = df.reset_index(drop=True)\n"
   ]
  },
  {
   "cell_type": "code",
   "execution_count": 6,
   "metadata": {},
   "outputs": [
    {
     "name": "stdout",
     "output_type": "stream",
     "text": [
      "<class 'pandas.core.frame.DataFrame'>\n",
      "RangeIndex: 793 entries, 0 to 792\n",
      "Data columns (total 2 columns):\n",
      " #   Column         Non-Null Count  Dtype  \n",
      "---  ------         --------------  -----  \n",
      " 0   text           793 non-null    object \n",
      " 1   assertiveness  793 non-null    float64\n",
      "dtypes: float64(1), object(1)\n",
      "memory usage: 12.5+ KB\n",
      "None\n"
     ]
    }
   ],
   "source": [
    "print(df.info())"
   ]
  },
  {
   "cell_type": "code",
   "execution_count": 7,
   "metadata": {},
   "outputs": [
    {
     "name": "stdout",
     "output_type": "stream",
     "text": [
      "       assertiveness\n",
      "count     793.000000\n",
      "mean        4.998596\n",
      "std         1.397804\n",
      "min        -1.695840\n",
      "25%         4.186848\n",
      "50%         5.234034\n",
      "75%         5.959347\n",
      "max         7.855469\n"
     ]
    }
   ],
   "source": [
    "print(df.describe())"
   ]
  },
  {
   "cell_type": "code",
   "execution_count": 9,
   "metadata": {},
   "outputs": [],
   "source": [
    "# replace the &gt with > in texts\n",
    "df['text'] = df['text'].str.replace('&gt;', '>')"
   ]
  },
  {
   "cell_type": "code",
   "execution_count": 10,
   "metadata": {},
   "outputs": [],
   "source": [
    "# shuffle the data and save 10% of it as test data\n",
    "df = df.sample(frac=1).reset_index(drop=True)\n",
    "test_data = df.sample(frac=0.1)\n",
    "train_data = df.drop(test_data.index)\n",
    "\n",
    "# save as csvs\n",
    "train_data.to_csv('train_data.csv', index=False)\n",
    "test_data.to_csv('test_data.csv', index=False)\n"
   ]
  },
  {
   "cell_type": "code",
   "execution_count": null,
   "metadata": {},
   "outputs": [],
   "source": []
  }
 ],
 "metadata": {
  "kernelspec": {
   "display_name": ".venv",
   "language": "python",
   "name": "python3"
  },
  "language_info": {
   "codemirror_mode": {
    "name": "ipython",
    "version": 3
   },
   "file_extension": ".py",
   "mimetype": "text/x-python",
   "name": "python",
   "nbconvert_exporter": "python",
   "pygments_lexer": "ipython3",
   "version": "3.10.12"
  }
 },
 "nbformat": 4,
 "nbformat_minor": 2
}
